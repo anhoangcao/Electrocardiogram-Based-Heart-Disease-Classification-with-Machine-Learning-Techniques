{
 "cells": [
  {
   "cell_type": "code",
   "execution_count": null,
   "id": "6406b07a",
   "metadata": {},
   "outputs": [],
   "source": [
    "# Kich ban 1: Default hyperparameters\n",
    "import pandas as pd\n",
    "import seaborn as sns\n",
    "from sklearn.model_selection import train_test_split\n",
    "from sklearn.svm import SVC\n",
    "from sklearn.metrics import classification_report, confusion_matrix, matthews_corrcoef\n",
    "import matplotlib.pyplot as plt\n",
    "import numpy as np\n",
    "\n",
    "# Load the train and test datasets using Pandas\n",
    "train_df = pd.read_csv('mitbih_train.csv')\n",
    "test_df = pd.read_csv('mitbih_test.csv')\n",
    "\n",
    "# Split the train and test datasets into X and y\n",
    "X_train = train_df.iloc[:, :-1].values\n",
    "y_train = train_df.iloc[:, -1].values\n",
    "X_test = test_df.iloc[:, :-1].values\n",
    "y_test = test_df.iloc[:, -1].values\n",
    "\n",
    "# Train the SVM model with default hyperparameters\n",
    "svm_cl = SVC()\n",
    "svm_cl.fit(X_train, y_train)\n",
    "\n",
    "# Evaluate the model on the test dataset\n",
    "y_test_pred = svm_cl.predict(X_test)\n",
    "print('SVM Test Results:')\n",
    "print(classification_report(y_test, y_test_pred))\n",
    "print('Matthews Correlation Coefficient:', matthews_corrcoef(y_test, y_test_pred))\n",
    "cm = confusion_matrix(y_test, y_test_pred)\n",
    "print('Confusion Matrix:')\n",
    "print(cm)\n",
    "\n",
    "# Map labels to their corresponding values\n",
    "label_map = {0: 'N', 1: 'S', 2: 'V', 3: 'F', 4: 'Q'}\n",
    "label_names = [label_map[i] for i in range(len(label_map))]\n",
    "\n",
    "# Calculate the normalized confusion matrix\n",
    "normalized_cm = cm.astype('float') / cm.sum(axis=1)[:, np.newaxis]\n",
    "\n",
    "# Print the normalized confusion matrix\n",
    "print('Normalized Confusion Matrix:')\n",
    "print(normalized_cm)\n",
    "\n",
    "sns.heatmap(normalized_cm, annot=True, cmap='Blues', fmt='.4f')\n",
    "plt.title('Normalized Confusion Matrix')\n",
    "colorbar = plt.colorbar()\n",
    "plt.ylabel('True Label')\n",
    "plt.xlabel('Predicted Label')\n",
    "plt.xticks(np.arange(len(label_names)) + 0.5, label_names)\n",
    "plt.yticks(np.arange(len(label_names)) + 0.5, label_names)\n",
    "plt.show()\n"
   ]
  }
 ],
 "metadata": {
  "kernelspec": {
   "display_name": "Python 3 (ipykernel)",
   "language": "python",
   "name": "python3"
  },
  "language_info": {
   "codemirror_mode": {
    "name": "ipython",
    "version": 3
   },
   "file_extension": ".py",
   "mimetype": "text/x-python",
   "name": "python",
   "nbconvert_exporter": "python",
   "pygments_lexer": "ipython3",
   "version": "3.9.16"
  }
 },
 "nbformat": 4,
 "nbformat_minor": 5
}
